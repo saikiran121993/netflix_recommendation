{
 "cells": [
  {
   "cell_type": "markdown",
   "metadata": {},
   "source": [
    "# Recommendation based on Genres and Descriptions"
   ]
  },
  {
   "cell_type": "code",
   "execution_count": 2,
   "metadata": {},
   "outputs": [],
   "source": [
    "import numpy  as np\n",
    "import pandas as pd\n",
    "from sklearn.feature_extraction.text import CountVectorizer\n",
    "from sklearn.metrics.pairwise import cosine_similarity"
   ]
  },
  {
   "cell_type": "code",
   "execution_count": 3,
   "metadata": {},
   "outputs": [],
   "source": [
    "df = pd.read_csv(\"Titles.csv\")\n",
    "credits_df = pd.read_csv(\"Credits.csv\")"
   ]
  },
  {
   "cell_type": "code",
   "execution_count": 4,
   "metadata": {},
   "outputs": [],
   "source": [
    "df[\"director\"] = pd.merge(\n",
    "    df, credits_df[credits_df[\"role\"] == \"DIRECTOR\"], on=\"id\", how=\"left\"\n",
    ")[\"name\"].replace(np.nan, None)\n",
    "\n",
    "df[\"actors\"] = pd.merge(\n",
    "    df,\n",
    "    pd.merge(df, credits_df[credits_df[\"role\"] == \"ACTOR\"], on=\"id\", how=\"left\")\n",
    "    .groupby(\"id\")[\"name\"]\n",
    "    .apply(lambda x: x.tolist() if x is not np.nan else None),\n",
    "    on=\"id\",\n",
    "    how=\"left\",\n",
    ")[\"name\"].apply(lambda x: [\"\" if i is np.nan else str(i) for i in x])\n",
    "\n",
    "df[\"actors\"] = df[\"actors\"].replace(np.nan, \"\")"
   ]
  },
  {
   "cell_type": "code",
   "execution_count": 5,
   "metadata": {},
   "outputs": [],
   "source": [
    "df[\"overview\"] = (\n",
    "    (\n",
    "        df[\"title\"].astype(str)\n",
    "        + \" \"\n",
    "        + df[\"description\"].astype(str)\n",
    "        + \" \"\n",
    "        + df[\"genres\"].apply(lambda x: \" \".join(x))\n",
    "        + \" \"\n",
    "        + df[\"director\"].astype(str)\n",
    "        + \" \"\n",
    "        + df[\"actors\"].apply(lambda x: \"\" if x is [] else \" \".join(x))\n",
    "    )\n",
    "    .str.lower()\n",
    "    .str.replace(\"\\n\", \" \")\n",
    "    .str.replace(\"—\", \"\")\n",
    ")"
   ]
  },
  {
   "cell_type": "code",
   "execution_count": 7,
   "metadata": {},
   "outputs": [],
   "source": [
    "df = df[df.type=='MOVIE'].reset_index()"
   ]
  },
  {
   "cell_type": "code",
   "execution_count": 8,
   "metadata": {},
   "outputs": [],
   "source": [
    "count = CountVectorizer(stop_words=\"english\", ngram_range=(1, 5))\n",
    "count_matrix = count.fit_transform(df[\"overview\"])\n",
    "cosine_sim = cosine_similarity(count_matrix, count_matrix)\n",
    "indices = pd.Series(df.index, index=df[\"title\"])\n",
    "count = CountVectorizer(stop_words=\"english\", ngram_range=(1, 5))\n",
    "count_matrix = count.fit_transform(df[\"overview\"])\n",
    "cosine_sim = cosine_similarity(count_matrix, count_matrix)\n",
    "indices = pd.Series(df.index, index=df[\"title\"])"
   ]
  },
  {
   "cell_type": "code",
   "execution_count": 9,
   "metadata": {},
   "outputs": [],
   "source": [
    "df.to_parquet(\"data.parquet\", compression='gzip')"
   ]
  },
  {
   "cell_type": "code",
   "execution_count": 14,
   "metadata": {},
   "outputs": [],
   "source": [
    "cosine_sim = pd.DataFrame(cosine_sim)\n",
    "cosine_sim.columns = cosine_sim.columns.astype(str)\n",
    "cosine_sim.to_parquet(\"cosine_sim.parquet\", compression='gzip')"
   ]
  },
  {
   "cell_type": "code",
   "execution_count": null,
   "metadata": {},
   "outputs": [],
   "source": []
  },
  {
   "cell_type": "code",
   "execution_count": null,
   "metadata": {},
   "outputs": [],
   "source": []
  }
 ],
 "metadata": {
  "interpreter": {
   "hash": "170b2aa43dce5c0e9a66fc97895e87eef44d7348daa51188a576997f370873bb"
  },
  "kernelspec": {
   "display_name": "Python 3.9.2 64-bit",
   "language": "python",
   "name": "python3"
  },
  "language_info": {
   "codemirror_mode": {
    "name": "ipython",
    "version": 3
   },
   "file_extension": ".py",
   "mimetype": "text/x-python",
   "name": "python",
   "nbconvert_exporter": "python",
   "pygments_lexer": "ipython3",
   "version": "3.8.5"
  },
  "orig_nbformat": 4
 },
 "nbformat": 4,
 "nbformat_minor": 2
}
